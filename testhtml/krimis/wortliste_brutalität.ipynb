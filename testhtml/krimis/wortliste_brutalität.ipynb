{
 "cells": [
  {
   "cell_type": "code",
   "execution_count": 3,
   "id": "21b2d8c4",
   "metadata": {},
   "outputs": [],
   "source": [
    "brutale_woerter = 'brutal schlagen schlug mord misshandeln vergewaltigen überfall tod töten tot treten tritt trat verfolgen hart extrem attacke angriff angreifen metzeln reißen missbrauch zerstören prügel rücksichtslos qual quälen blut griff gewalt tat härte diktator krieg schlacht anschlag schläge terror folter killer teulisch gemein brechen bombe sadistisch erbarmungslos barbarisch knochen verletzen roh grob kampf waffen messer knüppel stoßen lust sexuell diebstahl vandalismus amok belästigen mobbing brand demütigen erpressen nötigung rassismus sabotage stalker hass psychisch einschüchtern entführung beleidigen schimpfen schrei ohrenbetäubend betäubung drogen spritzen kämpfen boxen knöchel schlitzen brechen gedärme teufel dämon bestie schreck hexe kriminalität kriminell liste böse prositution schänden schand entblößen entstellen pervers mafia bosheit fleischwunde gebeine skelett gerippe meucheln umbringen auslöschen kannibale sterben pistole gewehr klinge cutter verbrecher dieb straftäter assassine vergehen entehren unterwerfen entmenscht genitalien faust attentat säge'\n"
   ]
  },
  {
   "cell_type": "code",
   "execution_count": 6,
   "id": "fa8c4da1",
   "metadata": {},
   "outputs": [
    {
     "name": "stdout",
     "output_type": "stream",
     "text": [
      "['brutal', 'schlag', 'schlug', 'mord', 'misshandel', 'vergewaltig', 'überfall', 'tod', 'töt', 'tot', 'tre', 'tritt', 'tra', 'verfolg', 'har', 'extr', 'attack', 'angriff', 'angreif', 'metzel', 'reiß', 'missbrauch', 'zerstör', 'prügel', 'rücksichtslo', 'qual', 'quäl', 'blu', 'griff', 'gewal', 'tat', 'här', 'diktator', 'krieg', 'schlach', 'anschlag', 'schläg', 'terror', 'fol', 'kill', 'teulisch', 'gemei', 'brech', 'bomb', 'sadistisch', 'erbarmungslo', 'barbarisch', 'knoch', 'verletz', 'roh', 'grob', 'kampf', 'waff', 'mess', 'knüppel', 'stoß', 'lus', 'sexuell', 'diebstahl', 'vandalismu', 'amok', 'belästig', 'mobbing', 'brand', 'demütig', 'erpress', 'nötigung', 'rassismu', 'sabotag', 'stalk', 'hass', 'psychisch', 'einschüch', 'entführung', 'beleidig', 'schimpf', 'schrei', 'ohrenbetäub', 'betäubung', 'drog', 'spritz', 'kämpf', 'box', 'knöchel', 'schlitz', 'gedärm', 'teufel', 'dämo', 'bestie', 'schreck', 'hex', 'kriminalitä', 'kriminell', 'lis', 'bös', 'prositutio', 'schänd', 'schand', 'entblöß', 'entstell', 'perv', 'mafia', 'boshei', 'fleischwu', 'gebei', 'skelett', 'geripp', 'meuchel', 'umbring', 'auslösch', 'kannibal', 'sterb', 'pistol', 'gewehr', 'kling', 'cutt', 'verbrech', 'dieb', 'straftä', 'assassi', 'vergeh', 'entehr', 'unterwerf', 'entmensch', 'genitalie', 'fau', 'attenta', 'säg']\n"
     ]
    }
   ],
   "source": [
    "from nltk.stem.cistem import Cistem\n",
    "stemmer = Cistem()\n",
    "S = brutale_woerter.split()\n",
    "Wortstammer = []\n",
    "for i in S:\n",
    "    wortstamm = stemmer.segment(i)\n",
    "    Wortstammer.append(wortstamm[0])\n",
    "\n",
    "Wortstammliste = []\n",
    "for i in Wortstammer:\n",
    "    if i not in Wortstammliste:\n",
    "        Wortstammliste.append(i)\n",
    "print(Wortstammliste)"
   ]
  }
 ],
 "metadata": {
  "kernelspec": {
   "display_name": "Python 3 (ipykernel)",
   "language": "python",
   "name": "python3"
  },
  "language_info": {
   "codemirror_mode": {
    "name": "ipython",
    "version": 3
   },
   "file_extension": ".py",
   "mimetype": "text/x-python",
   "name": "python",
   "nbconvert_exporter": "python",
   "pygments_lexer": "ipython3",
   "version": "3.10.4"
  }
 },
 "nbformat": 4,
 "nbformat_minor": 5
}
